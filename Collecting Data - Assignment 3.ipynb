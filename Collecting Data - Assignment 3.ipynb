{
 "cells": [
  {
   "cell_type": "code",
   "execution_count": 2,
   "id": "05a19724",
   "metadata": {},
   "outputs": [],
   "source": [
    "import requests \n",
    "from bs4 import BeautifulSoup\n",
    "import pandas as pd"
   ]
  },
  {
   "cell_type": "code",
   "execution_count": 3,
   "id": "b89d6251",
   "metadata": {},
   "outputs": [],
   "source": [
    "def Html_transmittor(Link):\n",
    "    Response = requests.get(Link)\n",
    "    Html_string1 = Response.text\n",
    "    return BeautifulSoup(Html_string1, \"html.parser\")\n",
    "\n",
    "def Lyrics_scraper(Link):\n",
    "    Lyrics = Html_transmittor(Link).find(\"div\", attrs={\"class\": \"col-xs-12 col-lg-8 text-center\"}).find(\"div\", attrs={\"class\":None})\n",
    "    return Lyrics.text.strip().replace('\\n\\n', '\\n').replace('\\n', ' / ')\n"
   ]
  },
  {
   "cell_type": "code",
   "execution_count": 4,
   "id": "f566d08c",
   "metadata": {},
   "outputs": [
    {
     "data": {
      "text/html": [
       "<div>\n",
       "<style scoped>\n",
       "    .dataframe tbody tr th:only-of-type {\n",
       "        vertical-align: middle;\n",
       "    }\n",
       "\n",
       "    .dataframe tbody tr th {\n",
       "        vertical-align: top;\n",
       "    }\n",
       "\n",
       "    .dataframe thead th {\n",
       "        text-align: right;\n",
       "    }\n",
       "</style>\n",
       "<table border=\"1\" class=\"dataframe\">\n",
       "  <thead>\n",
       "    <tr style=\"text-align: right;\">\n",
       "      <th></th>\n",
       "      <th>Title</th>\n",
       "      <th>Link</th>\n",
       "      <th>Lyrics</th>\n",
       "    </tr>\n",
       "  </thead>\n",
       "  <tbody>\n",
       "    <tr>\n",
       "      <th>0</th>\n",
       "      <td>Wonderwall</td>\n",
       "      <td>https://www.azlyrics.com/lyrics/oasis/wonderwa...</td>\n",
       "      <td>Today is gonna be the day / That they're gonna...</td>\n",
       "    </tr>\n",
       "    <tr>\n",
       "      <th>1</th>\n",
       "      <td>Supersonica</td>\n",
       "      <td>https://www.azlyrics.com/lyrics/oasis/superson...</td>\n",
       "      <td>I need to be myself / I can't be no-one else /...</td>\n",
       "    </tr>\n",
       "    <tr>\n",
       "      <th>2</th>\n",
       "      <td>Don't look back in anger</td>\n",
       "      <td>https://www.azlyrics.com/lyrics/oasis/dontlook...</td>\n",
       "      <td>Slip inside the eye of your mind / Don't you k...</td>\n",
       "    </tr>\n",
       "  </tbody>\n",
       "</table>\n",
       "</div>"
      ],
      "text/plain": [
       "                      Title  \\\n",
       "0                Wonderwall   \n",
       "1               Supersonica   \n",
       "2  Don't look back in anger   \n",
       "\n",
       "                                                Link  \\\n",
       "0  https://www.azlyrics.com/lyrics/oasis/wonderwa...   \n",
       "1  https://www.azlyrics.com/lyrics/oasis/superson...   \n",
       "2  https://www.azlyrics.com/lyrics/oasis/dontlook...   \n",
       "\n",
       "                                              Lyrics  \n",
       "0  Today is gonna be the day / That they're gonna...  \n",
       "1  I need to be myself / I can't be no-one else /...  \n",
       "2  Slip inside the eye of your mind / Don't you k...  "
      ]
     },
     "execution_count": 4,
     "metadata": {},
     "output_type": "execute_result"
    }
   ],
   "source": [
    "Wonderwall = {\"Title\": \"Wonderwall\",\n",
    "              \"Link\": \"https://www.azlyrics.com/lyrics/oasis/wonderwall.html\",\n",
    "              #\"Html\": Html_transmittor(\"https://www.azlyrics.com/lyrics/oasis/wonderwall.html\"),\n",
    "              \"Lyrics\": Lyrics_scraper(\"https://www.azlyrics.com/lyrics/oasis/wonderwall.html\")}\n",
    "\n",
    "Supersonica = {'Title':'Supersonica', \n",
    "               'Link': \"https://www.azlyrics.com/lyrics/oasis/supersonic.html\", \n",
    "               #'Html': Html_transmittor(\"https://www.azlyrics.com/lyrics/oasis/supersonic.html\"), \n",
    "               'Lyrics': Lyrics_scraper(\"https://www.azlyrics.com/lyrics/oasis/supersonic.html\")}\n",
    "\n",
    "Sally = {'Title':\"Don't look back in anger\", \n",
    "         'Link': \"https://www.azlyrics.com/lyrics/oasis/dontlookbackinanger.html\", \n",
    "         #'Html': Html_transmittor(\"https://www.azlyrics.com/lyrics/oasis/dontlookbackinanger.html\"), \n",
    "         'Lyrics': Lyrics_scraper(\"https://www.azlyrics.com/lyrics/oasis/dontlookbackinanger.html\")}\n",
    "\n",
    "Oasis_lyrics = pd.DataFrame.from_records([Wonderwall, Supersonica, Sally]).fillna(0)\n",
    "\n",
    "Oasis_lyrics\n"
   ]
  },
  {
   "cell_type": "code",
   "execution_count": 6,
   "id": "29c4e46e",
   "metadata": {},
   "outputs": [],
   "source": [
    "Oasis_lyrics.to_csv('Oasis_lyrics.csv')"
   ]
  }
 ],
 "metadata": {
  "kernelspec": {
   "display_name": "Python 3 (ipykernel)",
   "language": "python",
   "name": "python3"
  },
  "language_info": {
   "codemirror_mode": {
    "name": "ipython",
    "version": 3
   },
   "file_extension": ".py",
   "mimetype": "text/x-python",
   "name": "python",
   "nbconvert_exporter": "python",
   "pygments_lexer": "ipython3",
   "version": "3.9.12"
  }
 },
 "nbformat": 4,
 "nbformat_minor": 5
}
